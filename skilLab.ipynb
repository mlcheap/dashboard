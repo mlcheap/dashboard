{
 "cells": [
  {
   "cell_type": "code",
   "execution_count": 3,
   "id": "4bbbfcc2-e228-46aa-9de4-e3912b9b041b",
   "metadata": {},
   "outputs": [
    {
     "name": "stderr",
     "output_type": "stream",
     "text": [
      "/home/amir/api/venv/lib/python3.7/site-packages/psycopg2/__init__.py:144: UserWarning: The psycopg2 wheel package will be renamed from release 2.8; in order to keep installing from binary please use \"pip install psycopg2-binary\" instead. For details see: <http://initd.org/psycopg/docs/install.html#binary-install-from-pypi>.\n",
      "  \"\"\")\n"
     ]
    }
   ],
   "source": [
    "import esco_utils as eu"
   ]
  },
  {
   "cell_type": "markdown",
   "id": "d7f8a3cb-b569-4464-a711-6617026c83fb",
   "metadata": {},
   "source": [
    "## Create Token"
   ]
  },
  {
   "cell_type": "code",
   "execution_count": 4,
   "id": "375af096-a7d6-4ec3-925a-9fe216643197",
   "metadata": {},
   "outputs": [
    {
     "name": "stdout",
     "output_type": "stream",
     "text": [
      "{'data': {'token': '12a1bad0-4cb1-464c-8c8e-344957672bef'}, 'message': 'successful', 'meta': {}}\n"
     ]
    }
   ],
   "source": [
    "API_TOKEN = eu.get_token()\n",
    "client = eu.Client(API_TOKEN)"
   ]
  },
  {
   "cell_type": "markdown",
   "id": "a62c674b-94c1-4e9e-81e9-8a5e581279b4",
   "metadata": {
    "tags": []
   },
   "source": [
    "## Connect to DB & get vacancies samples "
   ]
  },
  {
   "cell_type": "code",
   "execution_count": 5,
   "id": "4bce4f93-3a06-410c-b65d-89a627b9c6ca",
   "metadata": {},
   "outputs": [],
   "source": [
    "vac_conn, skill_conn = eu.load_skillLab_DB()"
   ]
  },
  {
   "cell_type": "markdown",
   "id": "d8c002cf-bf72-47ef-bc39-1ca94c752a29",
   "metadata": {},
   "source": [
    "## tarin models "
   ]
  },
  {
   "cell_type": "code",
   "execution_count": 47,
   "id": "c20f958c-95ab-4c27-8375-afad3c57597a",
   "metadata": {},
   "outputs": [
    {
     "name": "stdout",
     "output_type": "stream",
     "text": [
      "{\"id\": \"9f9ee158-7312-11ec-9cb7-0242ac120005\", \"model_name\": \"tfidf_knn\", \"lang\": \"en\", \"ngram_min\": 1, \"ngram_max\": 4, \"n_neighbors\": 50, \"title_imp\": 10, \"alt_title_imp\": 10, \"case_insensitive\": true}\n",
      "{\"id\": \"a326fba8-7312-11ec-902e-0242ac120005\", \"model_name\": \"tfidf_knn\", \"lang\": \"de\", \"ngram_min\": 1, \"ngram_max\": 4, \"n_neighbors\": 50, \"title_imp\": 10, \"alt_title_imp\": 10, \"case_insensitive\": true}\n",
      "{\"id\": \"a5219c56-7312-11ec-86da-0242ac120005\", \"model_name\": \"tfidf_knn\", \"lang\": \"nl\", \"ngram_min\": 1, \"ngram_max\": 4, \"n_neighbors\": 50, \"title_imp\": 10, \"alt_title_imp\": 10, \"case_insensitive\": true}\n",
      "{\"id\": \"a772ec9e-7312-11ec-a25c-0242ac120005\", \"model_name\": \"tfidf_knn\", \"lang\": \"es\", \"ngram_min\": 1, \"ngram_max\": 4, \"n_neighbors\": 50, \"title_imp\": 10, \"alt_title_imp\": 10, \"case_insensitive\": true}\n",
      "{\"id\": \"aa3b7b94-7312-11ec-9567-0242ac120005\", \"model_name\": \"tfidf_knn\", \"lang\": \"pt\", \"ngram_min\": 1, \"ngram_max\": 4, \"n_neighbors\": 50, \"title_imp\": 10, \"alt_title_imp\": 10, \"case_insensitive\": true}\n",
      "{\"id\": \"ac3a36c4-7312-11ec-a612-0242ac120005\", \"model_name\": \"tfidf_knn\", \"lang\": \"fr\", \"ngram_min\": 1, \"ngram_max\": 4, \"n_neighbors\": 50, \"title_imp\": 10, \"alt_title_imp\": 10, \"case_insensitive\": true}\n",
      "{\"id\": \"aee8def2-7312-11ec-bf6f-0242ac120005\", \"model_name\": \"tfidf_knn\", \"lang\": \"ar\", \"ngram_min\": 1, \"ngram_max\": 4, \"n_neighbors\": 50, \"title_imp\": 10, \"alt_title_imp\": 10, \"case_insensitive\": true}\n"
     ]
    }
   ],
   "source": [
    "eu.train_models(['en','de','nl','es','pt','fr','ar'])"
   ]
  },
  {
   "cell_type": "markdown",
   "id": "bc7cddfe-1b40-4b52-8dc6-f67a8d9101f1",
   "metadata": {},
   "source": [
    "## Get all projects "
   ]
  },
  {
   "cell_type": "code",
   "execution_count": 9,
   "id": "bfecfba2-7011-4314-b72a-4891a8958b64",
   "metadata": {},
   "outputs": [
    {
     "data": {
      "text/plain": [
       "{'GB': '61dd90dbce271774889fbc02',\n",
       " 'DE': '61dd9651527776b760a845eb',\n",
       " 'FR': '61dd96af527776b760a84719',\n",
       " 'NL': '61dd9701527776b760a84847',\n",
       " 'EL': '61dd97b7527776b760a84975',\n",
       " 'PT': '61dd97da527776b760a84977',\n",
       " 'ES': '61dda542527776b760a84981',\n",
       " 'Mexico': '61ddbde4527776b760a84aaf',\n",
       " 'United Kingdom': '61ddbe23527776b760a84bdd',\n",
       " 'France': '61ddbeb7527776b760a84d0b',\n",
       " 'Brazil': '61ddc0fb527776b760a84e39',\n",
       " 'Netherlands': '61ddc2de527776b760a84f67',\n",
       " 'Germany': '61ddc34d527776b760a85095',\n",
       " 'Argentina': '61ddc51b527776b760a851c3',\n",
       " 'Saudi Arabia': '61ddc5d6527776b760a852e9',\n",
       " 'In Saudi Arabia': '61ddc9a2527776b760a85410',\n",
       " 'test Saudi Arabia': '61ddc9ea527776b760a85536',\n",
       " 'test 2 Saudi Arabia': '61ddcbed527776b760a8565c',\n",
       " 'test 3 Saudi Arabia': '61ddd1f5527776b760a85782',\n",
       " 'test 4 Saudi Arabia': '61ddd739527776b760a858a8',\n",
       " 'GBR': '61dde40a527776b760a85f9f',\n",
       " 'DEU': '61dde42a527776b760a860cd',\n",
       " 'NLD': '61dde4cb527776b760a861fb',\n",
       " 'FRA': '61dde4dc527776b760a86329',\n",
       " 'MEX': '61dde50b527776b760a86457',\n",
       " 'BRA': '61dde531527776b760a86585',\n",
       " 'SAU': '61dde5aa527776b760a866b3',\n",
       " 'test United Kingdom': '61de7dbc527776b760a867d9'}"
      ]
     },
     "execution_count": 9,
     "metadata": {},
     "output_type": "execute_result"
    }
   ],
   "source": [
    "all_projs = client.get_all_projects()['data']['projects']\n",
    "name2id = {prj['project_name']:prj['project_id'] for prj in all_projs}\n",
    "name2id"
   ]
  },
  {
   "cell_type": "markdown",
   "id": "2df256b6-e15b-41a0-8ffc-a7dd2b0f8455",
   "metadata": {
    "tags": []
   },
   "source": [
    "## create model "
   ]
  },
  {
   "cell_type": "code",
   "execution_count": null,
   "id": "524ab8fe-ec41-4823-b32a-c9c17b33296a",
   "metadata": {
    "scrolled": true,
    "tags": []
   },
   "outputs": [],
   "source": [
    "import pycountry\n",
    "\n",
    "alpha2name = {country.alpha_2:country.name for country in pycountry.countries}\n",
    "alpha2alpha3 = {country.alpha_2:country.alpha_3 for country in pycountry.countries}\n",
    "\n",
    "labels_per_task = 5\n",
    "lang = 'en'\n",
    "\n",
    "if lang=='en':\n",
    "    country = 'GB'\n",
    "elif lang=='es':\n",
    "    country = 'MX'\n",
    "elif lang=='pt':\n",
    "    country = 'BR'\n",
    "elif lang=='ar':\n",
    "    country = 'SA'\n",
    "else:\n",
    "    country = lang.upper()\n",
    "project_name = 'test ' + alpha2name[country] \n",
    "\n",
    "\n",
    "models = get_models()\n",
    "models = pd.DataFrame(models['data'])\n",
    "model_id = models[models.lang==lang].id.iloc[0]\n",
    "print(f\"model_id for {lang} = {model_id}\")\n",
    "\n",
    "classes = get_all_tags(lang,skill_conn)\n",
    "icon_path = f\"./flags/{country}.png\"\n",
    "response = client.upload_file(icon_path)\n",
    "icon_id = response['data']['file_id']\n",
    "print(response)\n",
    "print(f\"icon {icon_path} uploaded with id {icon_id}\")\n",
    "\n",
    "# add icon to project\n",
    "project = Project(project_name, \n",
    "                  labels_per_task,\n",
    "                  metadata={'lang':lang}, \n",
    "                  model_id=model_id, \n",
    "                  icon_id=icon_id)\n",
    "if project_name in name2id.keys():\n",
    "    project_id = name2id[project_name]\n",
    "    client.edit_project(project,project_id=project_id)\n",
    "else:\n",
    "    response = client.create_project(project)\n",
    "    project_id = response['data']['project_id']\n",
    "print(f\"project id = {project_id}\")\n",
    "\n",
    "client.edit_project(Project(icon_id=icon_id),project_id=project_id)\n",
    "\n",
    "add_classes(classes, project_id)\n",
    "\n",
    "if lang=='ar':\n",
    "    vacc = pd.read_csv('bayt.csv').rename(columns={'JobDescription': 'description','meta_Title': 'title'})\n",
    "else:\n",
    "    vacc = sample_vacancy(country,vac_conn)\n",
    "add_samples(vacc, project_id)\n",
    "\n",
    "\n",
    "## only for testing \n",
    "print(\"add labelers\", client.add_labelers(project_id, [\"test@test.com\",]))"
   ]
  },
  {
   "cell_type": "markdown",
   "id": "56f2c5d8-6da2-4d56-930e-3b9d90de9c94",
   "metadata": {},
   "source": [
    "# Add (real) labelers "
   ]
  },
  {
   "cell_type": "code",
   "execution_count": 87,
   "id": "790d5c1a-04d3-4cd2-a821-64bd5280dd59",
   "metadata": {},
   "outputs": [],
   "source": [
    "proj2labelers = {\n",
    "    'SAU': ['a.elhayek@skilllab.io'],\n",
    "    'DEU': ['s.schmidt@skilllab.io', 'c.bretgeld@skilllab.io', 'r.martens@skilllab.io'],\n",
    "    'GBR': ['k.binhumam@skilllab.io', 'g.portik@skilllab.io', 'a.radic@skilllab.io'],\n",
    "    'BRA': ['v.soares@skilllab.io'],\n",
    "    'MEX': ['a.chiba@skilllab.io'],\n",
    "    'NLD': ['l.weller@skilllab.io'],\n",
    "}\n",
    "\n",
    "for pname, labelers in proj2labelers.items():\n",
    "    pid = name2id[pname]\n",
    "    client.add_labelers(pid,labelers)\n"
   ]
  },
  {
   "cell_type": "code",
   "execution_count": 10,
   "id": "d800c9e2-6b06-4893-9c7e-c021a53fd0aa",
   "metadata": {},
   "outputs": [
    {
     "data": {
      "text/plain": [
       "{'data': {'active_labelers': ['test@test.com',\n",
       "   's.schmidt@skilllab.io',\n",
       "   'c.bretgeld@skilllab.io',\n",
       "   'r.martens@skilllab.io',\n",
       "   's.schmid+data@skilllab.io'],\n",
       "  'deactivated_labelers': [],\n",
       "  'project_id': '61dde42a527776b760a860cd',\n",
       "  'token': '12a1bad0-4cb1-464c-8c8e-344957672bef'},\n",
       " 'message': 'successful',\n",
       " 'meta': {}}"
      ]
     },
     "execution_count": 10,
     "metadata": {},
     "output_type": "execute_result"
    }
   ],
   "source": [
    "client.add_labelers(name2id[\"DEU\"],[\"s.schmid+data@skilllab.io\"])"
   ]
  },
  {
   "cell_type": "markdown",
   "id": "1d140ddc-36ef-4920-93e4-9500df22202e",
   "metadata": {},
   "source": [
    "## Cancell all tasks in all projects "
   ]
  },
  {
   "cell_type": "code",
   "execution_count": 59,
   "id": "2aa45716-471e-474e-8876-d6102e7c762e",
   "metadata": {},
   "outputs": [],
   "source": [
    "projects = client.get_all_projects()['data']['projects']\n",
    "for project in projects:\n",
    "    project_id = project['project_id']\n",
    "    states = ['in-progress', 'pending']\n",
    "    for state in states: \n",
    "        tasks = client.get_all_tasks(project_id=project_id,status=state)\n",
    "        task_ids = [task['_id'] for task in tasks['data']['tasks']]\n",
    "        [client.cancel_task(project_id=project_id,task_id=task_id) for task_id in task_ids]"
   ]
  },
  {
   "cell_type": "markdown",
   "id": "de30e27d-6406-48ce-88c6-91019a3b7846",
   "metadata": {},
   "source": [
    "## cancell labeler "
   ]
  },
  {
   "cell_type": "code",
   "execution_count": 85,
   "id": "e3aa81c2-2b8d-4573-ba62-cc4e010a2ea7",
   "metadata": {},
   "outputs": [],
   "source": [
    "for pname,pid in name2id.items():\n",
    "    client.cancel_labeler(project_id=pid,email='test@test.com')\n",
    "    if len(pname)==3:\n",
    "        client.add_labelers(pid,['test@test.com'])"
   ]
  },
  {
   "cell_type": "code",
   "execution_count": null,
   "id": "51619227-ff80-48b4-bbb4-f65297ae658b",
   "metadata": {},
   "outputs": [],
   "source": []
  }
 ],
 "metadata": {
  "environment": {
   "kernel": "python3",
   "name": "common-cu113.m87",
   "type": "gcloud",
   "uri": "gcr.io/deeplearning-platform-release/base-cu113:m87"
  },
  "kernelspec": {
   "display_name": "Python 3 (ipykernel)",
   "language": "python",
   "name": "python3"
  },
  "language_info": {
   "codemirror_mode": {
    "name": "ipython",
    "version": 3
   },
   "file_extension": ".py",
   "mimetype": "text/x-python",
   "name": "python",
   "nbconvert_exporter": "python",
   "pygments_lexer": "ipython3",
   "version": "3.7.12"
  }
 },
 "nbformat": 4,
 "nbformat_minor": 5
}
