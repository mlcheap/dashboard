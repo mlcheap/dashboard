{
 "cells": [
  {
   "cell_type": "code",
   "execution_count": 35,
   "id": "20b228b5-a7b3-4844-bcab-2ba79794768c",
   "metadata": {},
   "outputs": [
    {
     "name": "stdout",
     "output_type": "stream",
     "text": [
      "{'data': {'token': '12a1bad0-4cb1-464c-8c8e-344957672bef'}, 'message': 'successful', 'meta': {}}\n"
     ]
    }
   ],
   "source": [
    "import importlib\n",
    "import esco_utils as eu\n",
    "import pandas as pd\n",
    "import json\n",
    "import matplotlib.pyplot as plt\n",
    "import numpy as np\n",
    "\n",
    "importlib.reload(eu)\n",
    "\n",
    "API_TOKEN = eu.get_token()\n",
    "client = eu.Client(API_TOKEN)\n",
    "\n",
    "client.api.base_api_url = 'http://flask_sdk:6221'"
   ]
  },
  {
   "cell_type": "code",
   "execution_count": 2,
   "id": "9dc0c665-5175-4a5a-8073-4d01a9985e55",
   "metadata": {},
   "outputs": [],
   "source": [
    "vac_conn, skill_conn = eu.load_skillLab_DB()"
   ]
  },
  {
   "cell_type": "code",
   "execution_count": 87,
   "id": "f9d91982-83f4-4ea6-a665-6e13f2ac24a5",
   "metadata": {},
   "outputs": [
    {
     "name": "stderr",
     "output_type": "stream",
     "text": [
      "/home/esco_utils.py:53: FutureWarning: Using short name for 'orient' is deprecated. Only the options: ('dict', list, 'series', 'split', 'records', 'index') will be used in a future version. Use one of the above to silence this warning.\n",
      "  for task in tasks.to_dict(orient=\"record\")]\n"
     ]
    }
   ],
   "source": [
    "tags, labels, pred_stats, user_stats = eu.get_stats(client)\n",
    "pred_stats.to_csv('data/pred_stats.csv')\n",
    "user_stats.to_csv('data/user_stats.csv')\n",
    "labels.to_csv('data/labels.csv')\n",
    "tags.to_csv('data/tags.csv')"
   ]
  },
  {
   "cell_type": "code",
   "execution_count": 88,
   "id": "3941699b-cf57-4bfe-9833-40b987abe812",
   "metadata": {},
   "outputs": [
    {
     "data": {
      "image/png": "[encoded data removed]",
      "text/plain": [
       "<Figure size 720x432 with 1 Axes>"
      ]
     },
     "metadata": {
      "needs_background": "light"
     },
     "output_type": "display_data"
    }
   ],
   "source": [
    "df = tags.groupby('project_name')[['top_5','top_10','top_20','top_50']].mean()\n",
    "df.plot.bar(figsize=( 10,6))\n",
    "plt.ylabel('% accurate');"
   ]
  },
  {
   "cell_type": "code",
   "execution_count": 89,
   "id": "9c96063c-f480-4ce9-a3ba-e1262fa7f758",
   "metadata": {},
   "outputs": [
    {
     "name": "stdout",
     "output_type": "stream",
     "text": [
      "total active time (min) 50.0\n",
      "number of labels 43\n",
      "average time (min/label) 1.2\n"
     ]
    },
    {
     "data": {
      "image/png": "[encoded data removed]",
      "text/plain": [
       "<Figure size 432x288 with 1 Axes>"
      ]
     },
     "metadata": {
      "needs_background": "light"
     },
     "output_type": "display_data"
    }
   ],
   "source": [
    "df = labels.loc[labels.email=='yalda2@humansintheloop.org']\n",
    "response_times = pd.to_datetime(df.inserted_at).diff()\n",
    "response_times = response_times.apply(lambda x: x.total_seconds())\n",
    "active_time = np.sum(response_times[response_times<60*5])/60\n",
    "print(f'total active time (min) {active_time:.1f}')\n",
    "print(f'number of labels {len(df)}')\n",
    "print(f'average time (min/label) {active_time/len(df):.1f}')\n",
    "\n",
    "plt.hist(response_times);\n",
    "plt.xlabel('time per task (min)')\n",
    "plt.ylabel('# of tasks')\n",
    "plt.title('distribution of time per task');"
   ]
  },
  {
   "cell_type": "code",
   "execution_count": 100,
   "id": "e79acd05-c70d-4450-9c7a-9989a268c8e6",
   "metadata": {},
   "outputs": [
    {
     "data": {
      "text/plain": [
       "('ممثل المبيعات التجارية / ممثلة المبيعات التجارية',\n",
       " 'ممثل المبيعات التجارية / ممثلة المبيعات التجارية',\n",
       " 'مندوب مبيعات',\n",
       " 'تنظيم زيارات ميدانية يومياً ومتابعتها مع العملاء .. القيام بعملية عرض المنتجات و الخدمات بصورة مهنية و تسويقية عالية .. العمل مع العملاء بمهنية .. التأكد من التحصيل و التسوية المالية التي تتم وفقاً لشروط الدفع المحددة من الشركة .. الإطلاع على العروض الجديدة و متابعة التحديثات على الخدمة بشكل مستمر .. الإلتزام بتحقيق الهدف البيعي (التارجت) المحدد من قبل الادارة .. العمل على توسيع قاعدة البيانات .. رواتب + بدلات + عمولات مجزيه')"
      ]
     },
     "execution_count": 100,
     "metadata": {},
     "output_type": "execute_result"
    }
   ],
   "source": [
    "df = tags.loc[tags.email=='yalda2@humansintheloop.org']\n",
    "sample = df.loc[df.pred_rank>100].iloc[2]\n",
    "sample_data = task_data.loc[task_data.task_id==sample.task_id].iloc[0]\n",
    "sample.search_name, sample.occupation_title, sample_data.title, sample_data.description"
   ]
  },
  {
   "cell_type": "code",
   "execution_count": 92,
   "id": "19c9ef2a-ed82-44aa-ac92-69119d74602e",
   "metadata": {},
   "outputs": [
    {
     "name": "stderr",
     "output_type": "stream",
     "text": [
      "/tmp/ipykernel_167/1452598119.py:13: FutureWarning: Using short name for 'orient' is deprecated. Only the options: ('dict', list, 'series', 'split', 'records', 'index') will be used in a future version. Use one of the above to silence this warning.\n",
      "  for task in tasks.to_dict(orient=\"record\")]\n"
     ]
    }
   ],
   "source": [
    "all_projs = client.get_all_projects()['data']['projects']\n",
    "name2id = {prj['project_name']:prj['project_id'] for prj in all_projs}\n",
    "\n",
    "statuses = ['in-progress', 'pending', 'completed']\n",
    "tasks = [{**{'project_name':pname,'project_id':pid},**task} \n",
    "         for pname,pid in name2id.items() \n",
    "         for status in statuses \n",
    "         for task in client.get_all_tasks(pid,status=status)['data']['tasks']]\n",
    "tasks = pd.DataFrame(tasks).rename(columns={'_id':'task_id'})\n",
    "tasks['beta'] = tasks.project_name.apply(lambda x: len(x)==4 and x[3]=='2') # designate beta test \n",
    "tasks = tasks[tasks.beta]\n",
    "task_data = [{**task,**client.get_task(task['project_id'],task['task_id'])[\"data\"][\"items\"][0][\"data\"]} \n",
    "             for task in tasks.to_dict(orient=\"record\")]\n",
    "task_data = pd.DataFrame(task_data)"
   ]
  },
  {
   "cell_type": "code",
   "execution_count": 116,
   "id": "a39dfa7c-b2ad-47a5-ab5a-184b2e25abf2",
   "metadata": {},
   "outputs": [
    {
     "data": {
      "text/plain": [
       "project_name\n",
       "BRA2    124.0\n",
       "DEU2    327.0\n",
       "GBR2    357.0\n",
       "MEX2    161.0\n",
       "NLD2    397.5\n",
       "SAU2     66.5\n",
       "Name: num_words, dtype: float64"
      ]
     },
     "execution_count": 116,
     "metadata": {},
     "output_type": "execute_result"
    }
   ],
   "source": [
    "task_data['num_words'] = task_data.description.apply(lambda x:len(x.split()))\n",
    "task_data.groupby('project_name').median()['num_words']"
   ]
  },
  {
   "cell_type": "code",
   "execution_count": null,
   "id": "2955f76d-5bb1-4804-923e-3b19dd1aef85",
   "metadata": {},
   "outputs": [],
   "source": []
  }
 ],
 "metadata": {
  "environment": {
   "kernel": "python3",
   "name": "common-cu113.m87",
   "type": "gcloud",
   "uri": "gcr.io/deeplearning-platform-release/base-cu113:m87"
  },
  "kernelspec": {
   "display_name": "Python 3 (ipykernel)",
   "language": "python",
   "name": "python3"
  },
  "language_info": {
   "codemirror_mode": {
    "name": "ipython",
    "version": 3
   },
   "file_extension": ".py",
   "mimetype": "text/x-python",
   "name": "python",
   "nbconvert_exporter": "python",
   "pygments_lexer": "ipython3",
   "version": "3.9.9"
  }
 },
 "nbformat": 4,
 "nbformat_minor": 5
}
