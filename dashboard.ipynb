{
 "cells": [
  {
   "cell_type": "code",
   "execution_count": 1,
   "id": "20b228b5-a7b3-4844-bcab-2ba79794768c",
   "metadata": {},
   "outputs": [
    {
     "name": "stdout",
     "output_type": "stream",
     "text": [
      "{'data': {'token': '12a1bad0-4cb1-464c-8c8e-344957672bef'}, 'message': 'successful', 'meta': {}}\n"
     ]
    }
   ],
   "source": [
    "import importlib\n",
    "import esco_utils as eu\n",
    "import pandas as pd\n",
    "import json\n",
    "import matplotlib.pyplot as plt\n",
    "\n",
    "importlib.reload(eu)\n",
    "\n",
    "API_TOKEN = eu.get_token()\n",
    "client = eu.Client(API_TOKEN)\n",
    "\n",
    "client.api.base_api_url = 'http://flask_sdk:6221'"
   ]
  },
  {
   "cell_type": "code",
   "execution_count": 2,
   "id": "9dc0c665-5175-4a5a-8073-4d01a9985e55",
   "metadata": {},
   "outputs": [],
   "source": [
    "vac_conn, skill_conn = eu.load_skillLab_DB()"
   ]
  },
  {
   "cell_type": "code",
   "execution_count": 40,
   "id": "e680d24e-3010-4092-8e62-c7ea043a411c",
   "metadata": {},
   "outputs": [
    {
     "data": {
      "image/png": "[encoded data removed]",
      "text/plain": [
       "<Figure size 576x360 with 1 Axes>"
      ]
     },
     "metadata": {
      "needs_background": "light"
     },
     "output_type": "display_data"
    }
   ],
   "source": [
    "import pandas.io.sql as psql\n",
    "lang = 'en'\n",
    "occupation_local = psql.read_sql(f\"\"\"\n",
    "    SELECT * FROM\n",
    "    (SELECT * FROM occupations WHERE data_set='esco') AS occ \n",
    "    LEFT JOIN (SELECT * FROM occupation_translations WHERE locale='{lang}') as occtr\n",
    "    ON occ.id=occtr.occupation_id\n",
    "    \"\"\", skill_conn)\n",
    "import matplotlib.pyplot as plt\n",
    "occupation_local.alternates.apply(lambda x: len(x) if isinstance(x,list) else 0).hist(bins=20,figsize=(8,5))\n",
    "plt.xlabel('# alternates')\n",
    "plt.ylabel('# occupations')\n",
    "plt.title(f'lang: {lang.upper()}');"
   ]
  },
  {
   "cell_type": "code",
   "execution_count": 4,
   "id": "f9d91982-83f4-4ea6-a665-6e13f2ac24a5",
   "metadata": {},
   "outputs": [],
   "source": [
    "tags, pred_stats, user_stats = eu.get_stats(client)\n",
    "pred_stats.to_csv('data/pred_stats.csv')\n",
    "user_stats.to_csv('data/user_stats.csv')\n",
    "tags.to_csv('data/tags.csv')"
   ]
  },
  {
   "cell_type": "code",
   "execution_count": 10,
   "id": "3941699b-cf57-4bfe-9833-40b987abe812",
   "metadata": {},
   "outputs": [
    {
     "data": {
      "image/png": "[encoded data removed]",
      "text/plain": [
       "<Figure size 720x432 with 1 Axes>"
      ]
     },
     "metadata": {
      "needs_background": "light"
     },
     "output_type": "display_data"
    }
   ],
   "source": [
    "df = tags.groupby('project_name')[['top_5','top_10','top_20','top_50']].mean()\n",
    "df.plot.bar(figsize=( 10,6))\n",
    "plt.ylabel('% accurate');"
   ]
  },
  {
   "cell_type": "code",
   "execution_count": 54,
   "id": "9c96063c-f480-4ce9-a3ba-e1262fa7f758",
   "metadata": {},
   "outputs": [],
   "source": [
    "tags, pred_stats, user_stats = eu.get_stats(client)"
   ]
  },
  {
   "cell_type": "code",
   "execution_count": 42,
   "id": "456753af-bcdb-4155-a684-ad3094193988",
   "metadata": {},
   "outputs": [
    {
     "data": {
      "text/plain": [
       "'communication analyst/communication studies scholar/communication studies research scientist/communication research scientist/communication studies research analyst/communication scholar/communication studies researcher/communication science researcher/communications scientist/communication studies analyst/communication research analyst/communication researcher'"
      ]
     },
     "execution_count": 42,
     "metadata": {},
     "output_type": "execute_result"
    }
   ],
   "source": [
    "'/'.join(occupation_local.alternates.sample().iloc[0])"
   ]
  },
  {
   "cell_type": "code",
   "execution_count": null,
   "id": "1d4e58d3-4e6e-4646-bcad-7c9abcb8e945",
   "metadata": {},
   "outputs": [],
   "source": []
  }
 ],
 "metadata": {
  "environment": {
   "kernel": "python3",
   "name": "common-cu113.m87",
   "type": "gcloud",
   "uri": "gcr.io/deeplearning-platform-release/base-cu113:m87"
  },
  "kernelspec": {
   "display_name": "Python 3 (ipykernel)",
   "language": "python",
   "name": "python3"
  },
  "language_info": {
   "codemirror_mode": {
    "name": "ipython",
    "version": 3
   },
   "file_extension": ".py",
   "mimetype": "text/x-python",
   "name": "python",
   "nbconvert_exporter": "python",
   "pygments_lexer": "ipython3",
   "version": "3.9.9"
  }
 },
 "nbformat": 4,
 "nbformat_minor": 5
}
