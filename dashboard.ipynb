{
 "cells": [
  {
   "cell_type": "code",
   "execution_count": 1,
   "id": "20b228b5-a7b3-4844-bcab-2ba79794768c",
   "metadata": {},
   "outputs": [
    {
     "name": "stdout",
     "output_type": "stream",
     "text": [
      "{'data': {'token': '12a1bad0-4cb1-464c-8c8e-344957672bef'}, 'message': 'successful', 'meta': {}}\n"
     ]
    }
   ],
   "source": [
    "import importlib\n",
    "import esco_utils as eu\n",
    "import pandas as pd\n",
    "import json\n",
    "import matplotlib.pyplot as plt\n",
    "\n",
    "importlib.reload(eu)\n",
    "\n",
    "API_TOKEN = eu.get_token()\n",
    "client = eu.Client(API_TOKEN)\n",
    "\n",
    "client.api.base_api_url = 'http://flask_sdk:6221'"
   ]
  },
  {
   "cell_type": "code",
   "execution_count": 4,
   "id": "f9d91982-83f4-4ea6-a665-6e13f2ac24a5",
   "metadata": {},
   "outputs": [],
   "source": [
    "tags, pred_stats, user_stats = eu.get_stats(client)\n",
    "pred_stats.to_csv('data/pred_stats.csv')\n",
    "user_stats.to_csv('data/user_stats.csv')\n",
    "tags.to_csv('data/tags.csv')"
   ]
  },
  {
   "cell_type": "code",
   "execution_count": 10,
   "id": "3941699b-cf57-4bfe-9833-40b987abe812",
   "metadata": {},
   "outputs": [
    {
     "data": {
      "image/png": "[encoded data removed]",
      "text/plain": [
       "<Figure size 720x432 with 1 Axes>"
      ]
     },
     "metadata": {
      "needs_background": "light"
     },
     "output_type": "display_data"
    }
   ],
   "source": [
    "df = tags.groupby('project_name')[['top_5','top_10','top_20','top_50']].mean()\n",
    "df.plot.bar(figsize=( 10,6))\n",
    "plt.ylabel('% accurate');"
   ]
  },
  {
   "cell_type": "code",
   "execution_count": 54,
   "id": "9c96063c-f480-4ce9-a3ba-e1262fa7f758",
   "metadata": {},
   "outputs": [],
   "source": [
    "tags, pred_stats, user_stats = eu.get_stats(client)"
   ]
  },
  {
   "cell_type": "code",
   "execution_count": 56,
   "id": "456753af-bcdb-4155-a684-ad3094193988",
   "metadata": {},
   "outputs": [],
   "source": []
  },
  {
   "cell_type": "code",
   "execution_count": null,
   "id": "1d4e58d3-4e6e-4646-bcad-7c9abcb8e945",
   "metadata": {},
   "outputs": [],
   "source": []
  }
 ],
 "metadata": {
  "environment": {
   "kernel": "python3",
   "name": "common-cu113.m87",
   "type": "gcloud",
   "uri": "gcr.io/deeplearning-platform-release/base-cu113:m87"
  },
  "kernelspec": {
   "display_name": "Python 3 (ipykernel)",
   "language": "python",
   "name": "python3"
  },
  "language_info": {
   "codemirror_mode": {
    "name": "ipython",
    "version": 3
   },
   "file_extension": ".py",
   "mimetype": "text/x-python",
   "name": "python",
   "nbconvert_exporter": "python",
   "pygments_lexer": "ipython3",
   "version": "3.9.9"
  }
 },
 "nbformat": 4,
 "nbformat_minor": 5
}
