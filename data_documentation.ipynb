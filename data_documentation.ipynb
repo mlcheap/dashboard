{
 "cells": [
  {
   "cell_type": "code",
   "execution_count": 99,
   "id": "e8c02853-2bfc-435d-831b-fb4c4f98c529",
   "metadata": {},
   "outputs": [],
   "source": [
    "import pandas as pd\n",
    "import sqlite3\n",
    "import esco_utils as eu\n",
    "import pandas.io.sql as psql\n",
    "\n",
    "con = sqlite3.connect('data/cache.db')"
   ]
  },
  {
   "cell_type": "markdown",
   "id": "a333e00d-06fa-4edb-b415-02d89c5c8863",
   "metadata": {},
   "source": [
    "# Summary \n",
    "\n",
    "- Labeling related: \n",
    "    - `tags`: The tag table contains individual tags inserted by users.\n",
    "    - `task_data`: Contains all tasks that are not cancelled. \n",
    "    - `projects` and `project_labelers`: project name and id, plus labelers in each project\n",
    "- Occupations and skills:\n",
    "    - `occupation`: \n",
    "    - `occupations`: \n",
    "    - `ISCOGroups`\n",
    "    - `skill`: skills data, for all languages (in `lang`) Skill types: 'skill/competence', 'knowledge', 'skill/competence knowledge'\n",
    "    - `skillGroups`: skill groups for all languages (in `lang`)\n",
    "    - `occupationSkillRelations`: relationships between skills and occupation, can be `essential` or `optional` \n",
    "    - `skillSkillRelations`: relations between, can be `essential` or `optional` "
   ]
  },
  {
   "cell_type": "markdown",
   "id": "d96d7dcc-c2aa-4ca7-b356-854043977954",
   "metadata": {},
   "source": [
    "# Labeling"
   ]
  },
  {
   "cell_type": "markdown",
   "id": "630d9e4b-0197-40ab-af79-3b5474ee8f22",
   "metadata": {
    "tags": []
   },
   "source": [
    "### `tags` table \n",
    "If anntator `A1` in response to `task1` confirms tags `1,2,3`, they appear as three rows.\n",
    "important columns:\n",
    "- `task_id`: the task \n",
    "- `occupation_id` & `occupation_title`: the id & title of the occupation tag chosen by user\n",
    "- `inserted_at` & `label_time`: time for the each tag"
   ]
  },
  {
   "cell_type": "code",
   "execution_count": 100,
   "id": "e4c25792-bfaa-4b32-9ce4-ea370c10ffa3",
   "metadata": {},
   "outputs": [
    {
     "data": {
      "text/html": [
       "<div>\n",
       "<style scoped>\n",
       "    .dataframe tbody tr th:only-of-type {\n",
       "        vertical-align: middle;\n",
       "    }\n",
       "\n",
       "    .dataframe tbody tr th {\n",
       "        vertical-align: top;\n",
       "    }\n",
       "\n",
       "    .dataframe thead th {\n",
       "        text-align: right;\n",
       "    }\n",
       "</style>\n",
       "<table border=\"1\" class=\"dataframe\">\n",
       "  <thead>\n",
       "    <tr style=\"text-align: right;\">\n",
       "      <th></th>\n",
       "      <th>index</th>\n",
       "      <th>inserted_at</th>\n",
       "      <th>label_time</th>\n",
       "      <th>labeler_id</th>\n",
       "      <th>lang</th>\n",
       "      <th>task_id</th>\n",
       "      <th>occupation_id</th>\n",
       "      <th>occupation_title</th>\n",
       "    </tr>\n",
       "  </thead>\n",
       "  <tbody>\n",
       "    <tr>\n",
       "      <th>0</th>\n",
       "      <td>0</td>\n",
       "      <td>Wed, 12 Jan 2022 14:04:25 GMT</td>\n",
       "      <td>8347</td>\n",
       "      <td>61dda30da33565ec1ce31aab</td>\n",
       "      <td>None</td>\n",
       "      <td>61dde40c527776b760a85fa0</td>\n",
       "      <td>1864</td>\n",
       "      <td>sales assistant</td>\n",
       "    </tr>\n",
       "  </tbody>\n",
       "</table>\n",
       "</div>"
      ],
      "text/plain": [
       "   index                    inserted_at label_time                labeler_id  \\\n",
       "0      0  Wed, 12 Jan 2022 14:04:25 GMT       8347  61dda30da33565ec1ce31aab   \n",
       "\n",
       "   lang                   task_id occupation_id occupation_title  \n",
       "0  None  61dde40c527776b760a85fa0          1864  sales assistant  "
      ]
     },
     "execution_count": 100,
     "metadata": {},
     "output_type": "execute_result"
    }
   ],
   "source": [
    "pd.read_sql(\"SELECT * FROM tags\",con).head(1)"
   ]
  },
  {
   "cell_type": "markdown",
   "id": "759d1c94-f31a-4f8f-bf88-739fbc8e67b4",
   "metadata": {},
   "source": [
    "### `task_data` table\n",
    "Important columns: \n",
    "- `project_id` and `project_name`: id & name of the project for this task\n",
    "- `_id`: the task id \n",
    "- `title` and `description`: the title and description of the task. "
   ]
  },
  {
   "cell_type": "code",
   "execution_count": 83,
   "id": "dff916bc-cfed-4e79-97a8-f28112a98a88",
   "metadata": {},
   "outputs": [
    {
     "data": {
      "text/html": [
       "<div>\n",
       "<style scoped>\n",
       "    .dataframe tbody tr th:only-of-type {\n",
       "        vertical-align: middle;\n",
       "    }\n",
       "\n",
       "    .dataframe tbody tr th {\n",
       "        vertical-align: top;\n",
       "    }\n",
       "\n",
       "    .dataframe thead th {\n",
       "        text-align: right;\n",
       "    }\n",
       "</style>\n",
       "<table border=\"1\" class=\"dataframe\">\n",
       "  <thead>\n",
       "    <tr style=\"text-align: right;\">\n",
       "      <th></th>\n",
       "      <th>project_name</th>\n",
       "      <th>project_id</th>\n",
       "      <th>_id</th>\n",
       "      <th>created_at</th>\n",
       "      <th>status</th>\n",
       "      <th>task-type</th>\n",
       "      <th>total_labels</th>\n",
       "      <th>updated_at</th>\n",
       "      <th>description</th>\n",
       "      <th>title</th>\n",
       "    </tr>\n",
       "  </thead>\n",
       "  <tbody>\n",
       "    <tr>\n",
       "      <th>0</th>\n",
       "      <td>United Kingdom</td>\n",
       "      <td>61ddbe23527776b760a84bdd</td>\n",
       "      <td>61dddc3e527776b760a85c18</td>\n",
       "      <td>Tue, 11 Jan 2022 19:36:30 GMT</td>\n",
       "      <td>pending</td>\n",
       "      <td>esco-text-tagging</td>\n",
       "      <td>0</td>\n",
       "      <td>Tue, 11 Jan 2022 19:36:30 GMT</td>\n",
       "      <td>We're pleased to announce that SThree is looki...</td>\n",
       "      <td>Credit Controller - DACH</td>\n",
       "    </tr>\n",
       "  </tbody>\n",
       "</table>\n",
       "</div>"
      ],
      "text/plain": [
       "     project_name                project_id                       _id  \\\n",
       "0  United Kingdom  61ddbe23527776b760a84bdd  61dddc3e527776b760a85c18   \n",
       "\n",
       "                      created_at   status          task-type  total_labels  \\\n",
       "0  Tue, 11 Jan 2022 19:36:30 GMT  pending  esco-text-tagging             0   \n",
       "\n",
       "                      updated_at  \\\n",
       "0  Tue, 11 Jan 2022 19:36:30 GMT   \n",
       "\n",
       "                                         description                     title  \n",
       "0  We're pleased to announce that SThree is looki...  Credit Controller - DACH  "
      ]
     },
     "execution_count": 83,
     "metadata": {},
     "output_type": "execute_result"
    }
   ],
   "source": [
    "pd.read_sql(\"SELECT * FROM task_data\",con).head(1)"
   ]
  },
  {
   "cell_type": "markdown",
   "id": "41df2ab5-7f5b-482f-8060-f608b94a6dcb",
   "metadata": {},
   "source": [
    "### `project` and `project_labelers`\n",
    "get project name and id, plus labelers in each project"
   ]
  },
  {
   "cell_type": "code",
   "execution_count": 82,
   "id": "ac8e3d42-65c1-4535-8ec9-d86cc3f77156",
   "metadata": {},
   "outputs": [
    {
     "data": {
      "text/html": [
       "<div>\n",
       "<style scoped>\n",
       "    .dataframe tbody tr th:only-of-type {\n",
       "        vertical-align: middle;\n",
       "    }\n",
       "\n",
       "    .dataframe tbody tr th {\n",
       "        vertical-align: top;\n",
       "    }\n",
       "\n",
       "    .dataframe thead th {\n",
       "        text-align: right;\n",
       "    }\n",
       "</style>\n",
       "<table border=\"1\" class=\"dataframe\">\n",
       "  <thead>\n",
       "    <tr style=\"text-align: right;\">\n",
       "      <th></th>\n",
       "      <th>created_at</th>\n",
       "      <th>icon_id</th>\n",
       "      <th>labels_per_task</th>\n",
       "      <th>model_id</th>\n",
       "      <th>project_id</th>\n",
       "      <th>project_name</th>\n",
       "      <th>updated_at</th>\n",
       "      <th>lang</th>\n",
       "      <th>total_complete_tasks</th>\n",
       "      <th>total_labels</th>\n",
       "      <th>total_tasks</th>\n",
       "      <th>total_tasks_labeled</th>\n",
       "    </tr>\n",
       "  </thead>\n",
       "  <tbody>\n",
       "    <tr>\n",
       "      <th>0</th>\n",
       "      <td>Tue, 11 Jan 2022 14:14:51 GMT</td>\n",
       "      <td>61dd99d3527776b760a8497a</td>\n",
       "      <td>3</td>\n",
       "      <td>7693d764-72e5-11ec-83e4-0242c0a8d007</td>\n",
       "      <td>61dd90dbce271774889fbc02</td>\n",
       "      <td>GB</td>\n",
       "      <td>Tue, 11 Jan 2022 14:14:51 GMT</td>\n",
       "      <td>en</td>\n",
       "      <td>0</td>\n",
       "      <td>1</td>\n",
       "      <td>300</td>\n",
       "      <td>0</td>\n",
       "    </tr>\n",
       "  </tbody>\n",
       "</table>\n",
       "</div>"
      ],
      "text/plain": [
       "                      created_at                   icon_id  labels_per_task  \\\n",
       "0  Tue, 11 Jan 2022 14:14:51 GMT  61dd99d3527776b760a8497a                3   \n",
       "\n",
       "                               model_id                project_id  \\\n",
       "0  7693d764-72e5-11ec-83e4-0242c0a8d007  61dd90dbce271774889fbc02   \n",
       "\n",
       "  project_name                     updated_at lang  total_complete_tasks  \\\n",
       "0           GB  Tue, 11 Jan 2022 14:14:51 GMT   en                     0   \n",
       "\n",
       "   total_labels  total_tasks  total_tasks_labeled  \n",
       "0             1          300                    0  "
      ]
     },
     "execution_count": 82,
     "metadata": {},
     "output_type": "execute_result"
    }
   ],
   "source": [
    "pd.read_sql(\"SELECT * FROM projects\",con).head(1)"
   ]
  },
  {
   "cell_type": "code",
   "execution_count": 81,
   "id": "4ab613ee-67f6-45e1-b412-7656f23665a6",
   "metadata": {},
   "outputs": [
    {
     "data": {
      "text/html": [
       "<div>\n",
       "<style scoped>\n",
       "    .dataframe tbody tr th:only-of-type {\n",
       "        vertical-align: middle;\n",
       "    }\n",
       "\n",
       "    .dataframe tbody tr th {\n",
       "        vertical-align: top;\n",
       "    }\n",
       "\n",
       "    .dataframe thead th {\n",
       "        text-align: right;\n",
       "    }\n",
       "</style>\n",
       "<table border=\"1\" class=\"dataframe\">\n",
       "  <thead>\n",
       "    <tr style=\"text-align: right;\">\n",
       "      <th></th>\n",
       "      <th>project_id</th>\n",
       "      <th>labeler_status</th>\n",
       "      <th>_id</th>\n",
       "      <th>email</th>\n",
       "    </tr>\n",
       "  </thead>\n",
       "  <tbody>\n",
       "    <tr>\n",
       "      <th>0</th>\n",
       "      <td>61dd90dbce271774889fbc02</td>\n",
       "      <td>active_labelers</td>\n",
       "      <td></td>\n",
       "      <td>ari@gmail.com</td>\n",
       "    </tr>\n",
       "  </tbody>\n",
       "</table>\n",
       "</div>"
      ],
      "text/plain": [
       "                 project_id   labeler_status _id          email\n",
       "0  61dd90dbce271774889fbc02  active_labelers      ari@gmail.com"
      ]
     },
     "execution_count": 81,
     "metadata": {},
     "output_type": "execute_result"
    }
   ],
   "source": [
    "pd.read_sql(\"SELECT * FROM project_labelers\",con).head(1)"
   ]
  },
  {
   "cell_type": "markdown",
   "id": "a9d8b41e-e9ab-457e-aa18-534cf70cce0b",
   "metadata": {},
   "source": [
    "# Occupations and skills "
   ]
  },
  {
   "cell_type": "markdown",
   "id": "640ae14c-5d3b-4bb0-b24c-e12189074831",
   "metadata": {},
   "source": [
    "### `occupations`: title, description, and ISCO codes in all languages\n",
    "contain title, alternative title, and description of all ISCO occupations in all EU languages. \n",
    "Important coluns:\n",
    "- `occupation_id`: same occupation_id used in the `tags` table \n",
    "- `iscoGroup`: the group corresponding of this occupation, same as `code` in `ISCOGroups` table\n",
    "- `preferredLabel`: title\n",
    "- `altLabels`: alternative titles, seperated by `\\n`\n",
    "- `description`: description\n",
    "- `lang`: the language for the record\n",
    "- `conceptUri`: the url to the website for this resource"
   ]
  },
  {
   "cell_type": "code",
   "execution_count": 80,
   "id": "1cddf641-6326-4c23-a94f-d552f2480bcc",
   "metadata": {},
   "outputs": [
    {
     "data": {
      "text/html": [
       "<div>\n",
       "<style scoped>\n",
       "    .dataframe tbody tr th:only-of-type {\n",
       "        vertical-align: middle;\n",
       "    }\n",
       "\n",
       "    .dataframe tbody tr th {\n",
       "        vertical-align: top;\n",
       "    }\n",
       "\n",
       "    .dataframe thead th {\n",
       "        text-align: right;\n",
       "    }\n",
       "</style>\n",
       "<table border=\"1\" class=\"dataframe\">\n",
       "  <thead>\n",
       "    <tr style=\"text-align: right;\">\n",
       "      <th></th>\n",
       "      <th>conceptType</th>\n",
       "      <th>conceptUri</th>\n",
       "      <th>iscoGroup</th>\n",
       "      <th>preferredLabel</th>\n",
       "      <th>altLabels</th>\n",
       "      <th>hiddenLabels</th>\n",
       "      <th>status</th>\n",
       "      <th>modifiedDate</th>\n",
       "      <th>regulatedProfessionNote</th>\n",
       "      <th>scopeNote</th>\n",
       "      <th>definition</th>\n",
       "      <th>inScheme</th>\n",
       "      <th>description</th>\n",
       "      <th>lang</th>\n",
       "      <th>esco_version</th>\n",
       "      <th>occupation_id</th>\n",
       "      <th>external_id</th>\n",
       "    </tr>\n",
       "  </thead>\n",
       "  <tbody>\n",
       "    <tr>\n",
       "      <th>0</th>\n",
       "      <td>Occupation</td>\n",
       "      <td>http://data.europa.eu/esco/occupation/00030d09...</td>\n",
       "      <td>2166</td>\n",
       "      <td>technical director</td>\n",
       "      <td>technical and operations director\\nhead of tec...</td>\n",
       "      <td>None</td>\n",
       "      <td>released</td>\n",
       "      <td>2016-07-05T13:58:41Z</td>\n",
       "      <td>http://data.europa.eu/esco/regulated-professio...</td>\n",
       "      <td>None</td>\n",
       "      <td>None</td>\n",
       "      <td>http://data.europa.eu/esco/concept-scheme/occu...</td>\n",
       "      <td>Technical directors realise the artistic visio...</td>\n",
       "      <td>en</td>\n",
       "      <td>v1.0.3</td>\n",
       "      <td>2</td>\n",
       "      <td>http://data.europa.eu/esco/occupation/00030d09...</td>\n",
       "    </tr>\n",
       "  </tbody>\n",
       "</table>\n",
       "</div>"
      ],
      "text/plain": [
       "  conceptType                                         conceptUri  iscoGroup  \\\n",
       "0  Occupation  http://data.europa.eu/esco/occupation/00030d09...       2166   \n",
       "\n",
       "       preferredLabel                                          altLabels  \\\n",
       "0  technical director  technical and operations director\\nhead of tec...   \n",
       "\n",
       "  hiddenLabels    status          modifiedDate  \\\n",
       "0         None  released  2016-07-05T13:58:41Z   \n",
       "\n",
       "                             regulatedProfessionNote scopeNote definition  \\\n",
       "0  http://data.europa.eu/esco/regulated-professio...      None       None   \n",
       "\n",
       "                                            inScheme  \\\n",
       "0  http://data.europa.eu/esco/concept-scheme/occu...   \n",
       "\n",
       "                                         description lang esco_version  \\\n",
       "0  Technical directors realise the artistic visio...   en       v1.0.3   \n",
       "\n",
       "   occupation_id                                        external_id  \n",
       "0              2  http://data.europa.eu/esco/occupation/00030d09...  "
      ]
     },
     "execution_count": 80,
     "metadata": {},
     "output_type": "execute_result"
    }
   ],
   "source": [
    "lang = 'en'\n",
    "pd.read_sql(f\"SELECT * FROM occupations WHERE lang='{lang}'\",con).head(1)"
   ]
  },
  {
   "cell_type": "markdown",
   "id": "ed8b53c9-d072-4249-8af6-492984a26f68",
   "metadata": {},
   "source": [
    "### `ISCOGroups`: the groups of occupations \n",
    "Columns: \n",
    "- `code`: code of thiso group\n",
    "- `preferredLabel`: the title \n",
    "- `altLabels`: the alternative title\n",
    "\n",
    "__Hierarchy__: the hierarchy of ISCO groups is preserved in their `code`. Example: ISCO group with code `22` is \"Health professionals\", which is the parent of group \"Medical doctors\" with code `221`, which is a parent of \"Specialist medical practitioners\" with code `2212\". "
   ]
  },
  {
   "cell_type": "code",
   "execution_count": 115,
   "id": "4d734323-9071-497f-bb9d-c80c794320dc",
   "metadata": {},
   "outputs": [
    {
     "data": {
      "text/html": [
       "<div>\n",
       "<style scoped>\n",
       "    .dataframe tbody tr th:only-of-type {\n",
       "        vertical-align: middle;\n",
       "    }\n",
       "\n",
       "    .dataframe tbody tr th {\n",
       "        vertical-align: top;\n",
       "    }\n",
       "\n",
       "    .dataframe thead th {\n",
       "        text-align: right;\n",
       "    }\n",
       "</style>\n",
       "<table border=\"1\" class=\"dataframe\">\n",
       "  <thead>\n",
       "    <tr style=\"text-align: right;\">\n",
       "      <th></th>\n",
       "      <th>conceptType</th>\n",
       "      <th>conceptUri</th>\n",
       "      <th>code</th>\n",
       "      <th>preferredLabel</th>\n",
       "      <th>altLabels</th>\n",
       "      <th>inScheme</th>\n",
       "      <th>description</th>\n",
       "      <th>lang</th>\n",
       "      <th>esco_version</th>\n",
       "    </tr>\n",
       "  </thead>\n",
       "  <tbody>\n",
       "    <tr>\n",
       "      <th>0</th>\n",
       "      <td>ISCOGroup</td>\n",
       "      <td>http://data.europa.eu/esco/isco/C2212</td>\n",
       "      <td>2212</td>\n",
       "      <td>Specialist medical practitioners</td>\n",
       "      <td>None</td>\n",
       "      <td>http://data.europa.eu/esco/concept-scheme/occu...</td>\n",
       "      <td>Specialist medical practitioners (medical doct...</td>\n",
       "      <td>en</td>\n",
       "      <td>v1.0.3</td>\n",
       "    </tr>\n",
       "  </tbody>\n",
       "</table>\n",
       "</div>"
      ],
      "text/plain": [
       "  conceptType                             conceptUri  code  \\\n",
       "0   ISCOGroup  http://data.europa.eu/esco/isco/C2212  2212   \n",
       "\n",
       "                     preferredLabel altLabels  \\\n",
       "0  Specialist medical practitioners      None   \n",
       "\n",
       "                                            inScheme  \\\n",
       "0  http://data.europa.eu/esco/concept-scheme/occu...   \n",
       "\n",
       "                                         description lang esco_version  \n",
       "0  Specialist medical practitioners (medical doct...   en       v1.0.3  "
      ]
     },
     "execution_count": 115,
     "metadata": {},
     "output_type": "execute_result"
    }
   ],
   "source": [
    "pd.read_sql(f\"SELECT * FROM ISCOGroups WHERE lang='{lang}' AND code='2212'\",con)"
   ]
  },
  {
   "cell_type": "markdown",
   "id": "cf5b7409-dfb4-4706-aaba-2e51f753531c",
   "metadata": {},
   "source": [
    "### Skill data"
   ]
  },
  {
   "cell_type": "code",
   "execution_count": 90,
   "id": "98da45ae-aa82-4940-b15e-c56c714f5bf4",
   "metadata": {},
   "outputs": [],
   "source": [
    "skill = pd.read_sql(f\"SELECT * FROM skill WHERE lang='{lang}'\",con)\n",
    "skillG = pd.read_sql(f\"SELECT * FROM skillGroups WHERE lang='{lang}'\",con)\n",
    "occ2skill = pd.read_sql(\"SELECT * FROM occupationSkillRelations\", con)\n",
    "skill2skill = pd.read_sql(\"SELECT * FROM skillSkillRelations\", con)\n",
    "adjSkill = pd.read_sql(\"SELECT * FROM transversalSkillsCollection\", con)"
   ]
  },
  {
   "cell_type": "code",
   "execution_count": null,
   "id": "c8f7623f-2065-4f7f-bac5-075787246fb0",
   "metadata": {},
   "outputs": [],
   "source": []
  },
  {
   "cell_type": "code",
   "execution_count": null,
   "id": "2144b085-28bf-40a9-b387-811c97570944",
   "metadata": {},
   "outputs": [],
   "source": []
  }
 ],
 "metadata": {
  "kernelspec": {
   "display_name": "Python 3 (ipykernel)",
   "language": "python",
   "name": "python3"
  },
  "language_info": {
   "codemirror_mode": {
    "name": "ipython",
    "version": 3
   },
   "file_extension": ".py",
   "mimetype": "text/x-python",
   "name": "python",
   "nbconvert_exporter": "python",
   "pygments_lexer": "ipython3",
   "version": "3.7.10"
  }
 },
 "nbformat": 4,
 "nbformat_minor": 5
}
