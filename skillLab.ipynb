{
 "cells": [
  {
   "cell_type": "code",
   "execution_count": 1,
   "id": "4bbbfcc2-e228-46aa-9de4-e3912b9b041b",
   "metadata": {},
   "outputs": [],
   "source": [
    "import pandas as pd\n",
    "import langdetect as ld\n",
    "import pycountry\n",
    "\n",
    "ld.DetectorFactory.seed = 0\n",
    "import esco_utils as eu\n",
    "from difflib import SequenceMatcher\n",
    "import tqdm\n",
    "\n",
    "def detect_duplicate(vacc):\n",
    "    duplicate = [False]*len(vacc)\n",
    "    for i in tqdm.trange(len(vacc)):\n",
    "        for j in range(i+1,i+500):\n",
    "            if j>=len(vacc) or duplicate[j]==True:\n",
    "                break\n",
    "            ratio = SequenceMatcher(a=vacc.description.iloc[i][:50],b=vacc.description.iloc[j][:50]).ratio()\n",
    "            if ratio>.9:\n",
    "                duplicate[j] = True \n",
    "    return duplicate"
   ]
  },
  {
   "cell_type": "markdown",
   "id": "d7f8a3cb-b569-4464-a711-6617026c83fb",
   "metadata": {},
   "source": [
    "## Create Token"
   ]
  },
  {
   "cell_type": "code",
   "execution_count": 2,
   "id": "375af096-a7d6-4ec3-925a-9fe216643197",
   "metadata": {},
   "outputs": [
    {
     "name": "stdout",
     "output_type": "stream",
     "text": [
      "{'data': {'token': '12a1bad0-4cb1-464c-8c8e-344957672bef'}, 'message': 'successful', 'meta': {}}\n"
     ]
    }
   ],
   "source": [
    "API_TOKEN = eu.get_token()\n",
    "client = eu.Client(API_TOKEN)\n",
    "\n",
    "client.api.base_api_url = 'http://flask_sdk:6221'"
   ]
  },
  {
   "cell_type": "markdown",
   "id": "a62c674b-94c1-4e9e-81e9-8a5e581279b4",
   "metadata": {
    "tags": []
   },
   "source": [
    "## Connect to DB & get vacancies samples "
   ]
  },
  {
   "cell_type": "code",
   "execution_count": 3,
   "id": "4bce4f93-3a06-410c-b65d-89a627b9c6ca",
   "metadata": {},
   "outputs": [],
   "source": [
    "vac_conn, skill_conn = eu.load_skillLab_DB()"
   ]
  },
  {
   "cell_type": "markdown",
   "id": "d8c002cf-bf72-47ef-bc39-1ca94c752a29",
   "metadata": {},
   "source": [
    "## tarin models "
   ]
  },
  {
   "cell_type": "code",
   "execution_count": 26,
   "id": "c20f958c-95ab-4c27-8375-afad3c57597a",
   "metadata": {},
   "outputs": [
    {
     "name": "stdout",
     "output_type": "stream",
     "text": [
      "{\"id\": \"c84f7388-79ca-11ec-a745-0242ac190008\", \"model_name\": \"tfidf_knn\", \"lang\": \"en\", \"ngram_min\": 1, \"ngram_max\": 4, \"n_neighbors\": 50, \"title_imp\": 10, \"alt_title_imp\": 10, \"case_insensitive\": true}\n",
      "{\"id\": \"cbda63aa-79ca-11ec-a66c-0242ac190008\", \"model_name\": \"tfidf_knn\", \"lang\": \"de\", \"ngram_min\": 1, \"ngram_max\": 4, \"n_neighbors\": 50, \"title_imp\": 10, \"alt_title_imp\": 10, \"case_insensitive\": true}\n",
      "{\"id\": \"cddf50d4-79ca-11ec-b61a-0242ac190008\", \"model_name\": \"tfidf_knn\", \"lang\": \"nl\", \"ngram_min\": 1, \"ngram_max\": 4, \"n_neighbors\": 50, \"title_imp\": 10, \"alt_title_imp\": 10, \"case_insensitive\": true}\n",
      "{\"id\": \"d03de3fe-79ca-11ec-bf34-0242ac190008\", \"model_name\": \"tfidf_knn\", \"lang\": \"es\", \"ngram_min\": 1, \"ngram_max\": 4, \"n_neighbors\": 50, \"title_imp\": 10, \"alt_title_imp\": 10, \"case_insensitive\": true}\n",
      "{\"id\": \"d31b931e-79ca-11ec-9ebf-0242ac190008\", \"model_name\": \"tfidf_knn\", \"lang\": \"pt\", \"ngram_min\": 1, \"ngram_max\": 4, \"n_neighbors\": 50, \"title_imp\": 10, \"alt_title_imp\": 10, \"case_insensitive\": true}\n",
      "{\"id\": \"d55cb4e6-79ca-11ec-acf1-0242ac190008\", \"model_name\": \"tfidf_knn\", \"lang\": \"fr\", \"ngram_min\": 1, \"ngram_max\": 4, \"n_neighbors\": 50, \"title_imp\": 10, \"alt_title_imp\": 10, \"case_insensitive\": true}\n",
      "{\"id\": \"d82b0f6a-79ca-11ec-8a15-0242ac190008\", \"model_name\": \"tfidf_knn\", \"lang\": \"ar\", \"ngram_min\": 1, \"ngram_max\": 4, \"n_neighbors\": 50, \"title_imp\": 10, \"alt_title_imp\": 10, \"case_insensitive\": true}\n"
     ]
    }
   ],
   "source": [
    "eu.train_models(['en','de','nl','es','pt','fr','ar'])"
   ]
  },
  {
   "cell_type": "markdown",
   "id": "bc7cddfe-1b40-4b52-8dc6-f67a8d9101f1",
   "metadata": {},
   "source": [
    "## Get all projects "
   ]
  },
  {
   "cell_type": "code",
   "execution_count": 32,
   "id": "bfecfba2-7011-4314-b72a-4891a8958b64",
   "metadata": {},
   "outputs": [
    {
     "data": {
      "text/plain": [
       "{'GB': '61dd90dbce271774889fbc02',\n",
       " 'DE': '61dd9651527776b760a845eb',\n",
       " 'FR': '61dd96af527776b760a84719',\n",
       " 'NL': '61dd9701527776b760a84847',\n",
       " 'EL': '61dd97b7527776b760a84975',\n",
       " 'PT': '61dd97da527776b760a84977',\n",
       " 'ES': '61dda542527776b760a84981',\n",
       " 'Mexico': '61ddbde4527776b760a84aaf',\n",
       " 'United Kingdom': '61ddbe23527776b760a84bdd',\n",
       " 'France': '61ddbeb7527776b760a84d0b',\n",
       " 'Brazil': '61ddc0fb527776b760a84e39',\n",
       " 'Netherlands': '61ddc2de527776b760a84f67',\n",
       " 'Germany': '61ddc34d527776b760a85095',\n",
       " 'Argentina': '61ddc51b527776b760a851c3',\n",
       " 'Saudi Arabia': '61ddc5d6527776b760a852e9',\n",
       " 'In Saudi Arabia': '61ddc9a2527776b760a85410',\n",
       " 'test Saudi Arabia': '61ddc9ea527776b760a85536',\n",
       " 'test 2 Saudi Arabia': '61ddcbed527776b760a8565c',\n",
       " 'test 3 Saudi Arabia': '61ddd1f5527776b760a85782',\n",
       " 'test 4 Saudi Arabia': '61ddd739527776b760a858a8',\n",
       " 'GBR': '61dde40a527776b760a85f9f',\n",
       " 'DEU': '61dde42a527776b760a860cd',\n",
       " 'NLD': '61dde4cb527776b760a861fb',\n",
       " 'FRA': '61dde4dc527776b760a86329',\n",
       " 'MEX': '61dde50b527776b760a86457',\n",
       " 'BRA': '61dde531527776b760a86585',\n",
       " 'SAU': '61dde5aa527776b760a866b3',\n",
       " 'test United Kingdom': '61de7dbc527776b760a867d9',\n",
       " 'test Brazil': '61e8fbe7c2a562ff6ba036ac',\n",
       " 'test 2 Brazil': '61e8fed0c2a562ff6ba037e0',\n",
       " 'test BRA': '61e900d4c2a562ff6ba0390e',\n",
       " 'BRA2': '61e90ac9c2a562ff6ba03a3c',\n",
       " 'MEX2': '61e90b0fc2a562ff6ba03b6a',\n",
       " 'GBR2': '61e90baec2a562ff6ba03c98',\n",
       " 'DEU2': '61e90c00c2a562ff6ba03dc6',\n",
       " 'NLD2': '61e90c7ac2a562ff6ba03ef4',\n",
       " 'SAU2': '61e90ccec2a562ff6ba04022',\n",
       " 'test GBR': '61e918b3c2a562ff6ba0411e',\n",
       " 'test GBR2': '61e918e0c2a562ff6ba04120'}"
      ]
     },
     "execution_count": 32,
     "metadata": {},
     "output_type": "execute_result"
    }
   ],
   "source": [
    "all_projs = client.get_all_projects()['data']['projects']\n",
    "name2id = {prj['project_name']:prj['project_id'] for prj in all_projs}\n",
    "name2id"
   ]
  },
  {
   "cell_type": "markdown",
   "id": "2df256b6-e15b-41a0-8ffc-a7dd2b0f8455",
   "metadata": {
    "tags": []
   },
   "source": [
    "## create model "
   ]
  },
  {
   "cell_type": "code",
   "execution_count": null,
   "id": "524ab8fe-ec41-4823-b32a-c9c17b33296a",
   "metadata": {
    "scrolled": true,
    "tags": []
   },
   "outputs": [],
   "source": [
    "\n",
    "alpha2name = {country.alpha_2:country.name for country in pycountry.countries}\n",
    "alpha2alpha3 = {country.alpha_2:country.alpha_3 for country in pycountry.countries}\n",
    "\n",
    "labels_per_task = 5\n",
    "num_samples = 250\n",
    "lang = 'en'\n",
    "\n",
    "if lang=='en':\n",
    "    country = 'GB'\n",
    "elif lang=='es':\n",
    "    country = 'MX'\n",
    "elif lang=='pt':\n",
    "    country = 'BR'\n",
    "elif lang=='ar':\n",
    "    country = 'SA'\n",
    "else:\n",
    "    country = lang.upper()\n",
    "project_name = 'test ' + alpha2alpha3[country] + '2'\n",
    "\n",
    "\n",
    "models = eu.get_models()\n",
    "models = pd.DataFrame(models['data'])\n",
    "model_id = models[models.lang==lang].id.iloc[-1] # chose last created model \n",
    "print(f\"model_id for {lang} = {model_id}\")\n",
    "\n",
    "icon_path = f\"./flags/{country}.png\"\n",
    "response = client.upload_file(icon_path)\n",
    "icon_id = response['data']['file_id']\n",
    "print(response)\n",
    "print(f\"icon {icon_path} uploaded with id {icon_id}\")\n",
    "\n",
    "# add icon to project\n",
    "project = eu.Project(project_name, \n",
    "                  labels_per_task,\n",
    "                  metadata={'lang':lang}, \n",
    "                  model_id=model_id, \n",
    "                  icon_id=icon_id)\n",
    "if project_name in name2id.keys():\n",
    "    project_id = name2id[project_name]\n",
    "    client.edit_project(project,project_id=project_id)\n",
    "else:\n",
    "    response = client.create_project(project)\n",
    "    project_id = response['data']['project_id']\n",
    "print(f\"project id = {project_id}\")\n",
    "\n",
    "client.edit_project(eu.Project(icon_id=icon_id),project_id=project_id)\n",
    "\n",
    "classes = eu.sql_all_tags(lang,skill_conn)\n",
    "eu.add_classes(client, classes, project_id)\n",
    "\n",
    "if lang=='ar':\n",
    "    vacc = pd.read_csv('bayt.csv').rename(columns={'JobDescription': 'description','meta_Title': 'title'})\n",
    "else:\n",
    "    # sample more to make sure enough remains after de-duplication & language detection\n",
    "    vacc = eu.sample_vacancy(country,vac_conn,num=num_samples*5) \n",
    "# detect language \n",
    "vacc['langdetect'] = vacc.description.apply(lambda x: ld.detect(x) if len(x)>10 else '')\n",
    "vacc = vacc.loc[vacc.langdetect==lang]\n",
    "# detect duplicates \n",
    "vacc['duplicate'] = detect_duplicate(vacc)\n",
    "vacc = vacc.loc[~vacc.duplicate]\n",
    "eu.add_samples(client, vacc.sample(n=num_samples), project_id)\n",
    "\n",
    "## only for testing \n",
    "print(\"add labelers\", client.add_labelers(project_id, [\"test@test.com\",]))"
   ]
  },
  {
   "cell_type": "markdown",
   "id": "56f2c5d8-6da2-4d56-930e-3b9d90de9c94",
   "metadata": {},
   "source": [
    "# Add beta labelers "
   ]
  },
  {
   "cell_type": "code",
   "execution_count": 23,
   "id": "790d5c1a-04d3-4cd2-a821-64bd5280dd59",
   "metadata": {},
   "outputs": [],
   "source": [
    "proj2labelers = {\n",
    "    'SAU2': ['a.elhayek@skilllab.io'],\n",
    "    'DEU2': ['s.schmid+data@skilllab.io', 'c.bretgeld@skilllab.io', 'r.martens@skilllab.io'],\n",
    "    'GBR2': ['k.binhumam@skilllab.io', 'g.portik@skilllab.io', 'a.radic@skilllab.io'],\n",
    "    'BRA2': ['v.soares@skilllab.io'],\n",
    "    'MEX2': ['a.chiba@skilllab.io'],\n",
    "    'NLD2': ['l.weller@skilllab.io'],\n",
    "}\n",
    "\n",
    "for pname, labelers in proj2labelers.items():\n",
    "    pid = name2id[pname]\n",
    "    client.add_labelers(pid,labelers)\n"
   ]
  },
  {
   "cell_type": "markdown",
   "id": "789166e7-5021-4cef-914a-8f0b19e1f398",
   "metadata": {},
   "source": [
    "# labelers of humansintheloop & discoverdignify"
   ]
  },
  {
   "cell_type": "code",
   "execution_count": 40,
   "id": "a72a5dff-b7fc-4526-a457-35f091c9ad46",
   "metadata": {},
   "outputs": [],
   "source": [
    "proj2labelers = {\n",
    "    'SAU2': ['simeon@humansintheloop.org',\n",
    "             'tess@humansintheloop.org',\n",
    "             'yalda2@humansintheloop.org',\n",
    "             'ghazaleh@humansintheloop.org'],\n",
    "    'GBR2': ['simeon@humansintheloop.org'],\n",
    "    'BRA2': ['maria@discoverdignify.com','dana@discoverdignify.com','anabarbara@discoverdignify.com'],\n",
    "    'MEX2': ['maria@discoverdignify.com','dana@discoverdignify.com','anabarbara@discoverdignify.com'],\n",
    "}\n",
    "for pname, labelers in proj2labelers.items():\n",
    "    pid = name2id[pname]\n",
    "    client.add_labelers(pid,labelers)"
   ]
  },
  {
   "cell_type": "markdown",
   "id": "1d140ddc-36ef-4920-93e4-9500df22202e",
   "metadata": {},
   "source": [
    "## Cancell & edit projects "
   ]
  },
  {
   "cell_type": "code",
   "execution_count": 51,
   "id": "2aa45716-471e-474e-8876-d6102e7c762e",
   "metadata": {},
   "outputs": [],
   "source": [
    "for project_name in ['SAU2']:\n",
    "    project_id = name2id[project_name]\n",
    "    states = ['in-progress', 'pending']\n",
    "    for state in states: \n",
    "        tasks = client.get_all_tasks(project_id=project_id,status=state)\n",
    "        task_ids = [task['_id'] for task in tasks['data']['tasks']]\n",
    "        [client.cancel_task(project_id=project_id,task_id=task_id) for task_id in task_ids]"
   ]
  },
  {
   "cell_type": "code",
   "execution_count": null,
   "id": "e40f394f-7e0a-496f-a298-5447a22865be",
   "metadata": {
    "scrolled": true,
    "tags": []
   },
   "outputs": [],
   "source": [
    "# country = 'SA'\n",
    "# lang = 'ar'\n",
    "\n",
    "# if lang=='ar':\n",
    "#     vacc = pd.read_csv('bayt.csv').rename(columns={'JobDescription': 'description','meta_Title': 'title'})\n",
    "# else:\n",
    "#     # sample more to make sure enough remains after de-duplication & language detection\n",
    "#     vacc = eu.sample_vacancy(country,vac_conn,num=num_samples*5) \n",
    "# # detect language \n",
    "# vacc['langdetect'] = vacc.description.apply(lambda x: ld.detect(x) if len(x)>10 else '')\n",
    "# vacc = vacc.loc[vacc.langdetect==lang]\n",
    "# # detect duplicates \n",
    "# vacc['duplicate'] = detect_duplicate(vacc)\n",
    "# vacc = vacc.loc[~vacc.duplicate]\n",
    "\n",
    "project_id = name2id['SAU2']\n",
    "eu.add_samples(client, vacc.sample(n=238), project_id)"
   ]
  },
  {
   "cell_type": "markdown",
   "id": "de30e27d-6406-48ce-88c6-91019a3b7846",
   "metadata": {},
   "source": [
    "## cancell labeler "
   ]
  },
  {
   "cell_type": "code",
   "execution_count": 22,
   "id": "e3aa81c2-2b8d-4573-ba62-cc4e010a2ea7",
   "metadata": {},
   "outputs": [],
   "source": [
    "for pname,pid in name2id.items():\n",
    "    client.cancel_labeler(project_id=pid,email='test@test.com')\n",
    "    if len(pname)==4 and pname[3]=='2':\n",
    "        client.add_labelers(pid,['test@test.com'])"
   ]
  },
  {
   "cell_type": "markdown",
   "id": "a13a73a5-7999-41fc-a8fe-a6b8c6049c3d",
   "metadata": {},
   "source": [
    "### pick the most recently created model for projects in beta #2"
   ]
  },
  {
   "cell_type": "code",
   "execution_count": 8,
   "id": "39f4494c-7f02-4e37-87d7-66263f5237d6",
   "metadata": {},
   "outputs": [
    {
     "name": "stdout",
     "output_type": "stream",
     "text": [
      "8\n"
     ]
    }
   ],
   "source": [
    "\n",
    "for prj_name,prj_id in name2id.items():\n",
    "    prj_metadata = client.get_project(prj_id)['data']['metadata']\n",
    "    if len(prj_name)==4 and prj_name[3]=='2' and 'lang' in prj_metadata:\n",
    "        lang = prj_metadata['lang']\n",
    "        models = eu.get_models()\n",
    "        models = pd.DataFrame(models['data'])\n",
    "        # chose the last created model \n",
    "        model_id = models[models.lang==lang].id.iloc[-1] \n",
    "        print(f\"model_id for {lang} = {model_id}\")\n",
    "        client.edit_project(eu.Project(model_id=model_id),project_id=prj_id)\n"
   ]
  },
  {
   "cell_type": "code",
   "execution_count": 38,
   "id": "2ecc30e7-b19a-4ad3-91a6-f76d5039d78b",
   "metadata": {},
   "outputs": [
    {
     "data": {
      "text/plain": [
       "0.5147021251552995"
      ]
     },
     "execution_count": 38,
     "metadata": {},
     "output_type": "execute_result"
    }
   ],
   "source": [
    "import random\n",
    "\n",
    "random.random()"
   ]
  },
  {
   "cell_type": "code",
   "execution_count": null,
   "id": "d53dad99-d04d-4cad-863e-548958f77fc9",
   "metadata": {},
   "outputs": [],
   "source": []
  }
 ],
 "metadata": {
  "environment": {
   "kernel": "python3",
   "name": "common-cu113.m87",
   "type": "gcloud",
   "uri": "gcr.io/deeplearning-platform-release/base-cu113:m87"
  },
  "kernelspec": {
   "display_name": "Python 3 (ipykernel)",
   "language": "python",
   "name": "python3"
  },
  "language_info": {
   "codemirror_mode": {
    "name": "ipython",
    "version": 3
   },
   "file_extension": ".py",
   "mimetype": "text/x-python",
   "name": "python",
   "nbconvert_exporter": "python",
   "pygments_lexer": "ipython3",
   "version": "3.9.9"
  }
 },
 "nbformat": 4,
 "nbformat_minor": 5
}
