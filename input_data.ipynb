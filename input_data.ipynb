{
 "cells": [
  {
   "cell_type": "code",
   "execution_count": 44,
   "id": "c976f56d-3d41-4415-beb2-481dc69fef9c",
   "metadata": {},
   "outputs": [],
   "source": [
    "import pandas as pd\n",
    "import sqlite3\n",
    "import esco_utils as eu\n",
    "import pandas.io.sql as psql\n",
    "\n",
    "con = sqlite3.connect('data/cache.db')\n",
    "esco_con = sqlite3.connect('data/esco_v1.1.0.db')\n",
    "base_data_path = './model/model_data/'"
   ]
  },
  {
   "cell_type": "code",
   "execution_count": 2,
   "id": "56f351ae-679f-469b-b18a-5b62fa3b279b",
   "metadata": {},
   "outputs": [],
   "source": [
    "tasks = pd.read_sql(\"SELECT * FROM task_data\",con)\n",
    "projects = pd.read_sql(\"SELECT * FROM projects\",con)\n",
    "tags = pd.read_sql(\"SELECT * FROM tags\",con)\n",
    "occ2skill = pd.read_sql(\"SELECT * FROM occupationSkillRelations\", con)\n",
    "skill2skill = pd.read_sql(\"SELECT * FROM skillSkillRelations\", con)\n",
    "adjSkill = pd.read_sql(\"SELECT * FROM transversalSkillsCollection\", con)"
   ]
  },
  {
   "cell_type": "code",
   "execution_count": 3,
   "id": "991bbf30-6e33-46a8-9f2d-4dd2bedb18cf",
   "metadata": {},
   "outputs": [],
   "source": [
    "# lang_occupation.head(1)"
   ]
  },
  {
   "cell_type": "code",
   "execution_count": 4,
   "id": "c52def0a-48dc-45f8-bc5c-66c082ba8b3e",
   "metadata": {},
   "outputs": [],
   "source": [
    "# p_tasks.merge(tags,right_on='task_id',left_on='_id',how='inner')"
   ]
  },
  {
   "cell_type": "code",
   "execution_count": 5,
   "id": "b7439573-0b2d-4808-9251-9332c2ffc6ab",
   "metadata": {},
   "outputs": [
    {
     "name": "stdout",
     "output_type": "stream",
     "text": [
      "en\n",
      "de\n",
      "fr\n",
      "nl\n",
      "el\n",
      "pt\n",
      "es\n",
      "ar\n"
     ]
    }
   ],
   "source": [
    "all_tags =0\n",
    "\n",
    "for lindex, lang in enumerate(projects['lang'].unique().tolist()):\n",
    "    print(lang)\n",
    "    lang_ocupation = pd.read_sql(f\"SELECT * FROM occupations WHERE lang='{lang}'\",con)\n",
    "    lang_ocupation['occupation_id'] = lang_ocupation['occupation_id'].astype(str)\n",
    "    lang_projs = projects.loc[projects['lang']==lang].loc[projects['total_tasks_labeled']>0].loc[projects['project_name'].str.len()<6]\n",
    "    l_projs = lang_projs['project_name'].tolist()\n",
    "    lang_ocupation = lang_ocupation[['iscoGroup','conceptUri', 'preferredLabel','altLabels','description','occupation_id']].rename(columns={\"description\": \"isco_description\",'preferredLabel':'isco_preferredLabel','isco_altLabels':'altLabels'})\n",
    "\n",
    "    for idx,project in enumerate(l_projs):\n",
    "        p_tasks = tasks.loc[tasks['project_name']==project]\n",
    "        p_tags = p_tasks.merge(tags,right_on='task_id',left_on='_id',how='inner')\n",
    "        p_tags = p_tags[['project_name','description','title','occupation_title','occupation_id','task_id']]\n",
    "        p_tags = p_tags.merge(lang_ocupation,on='occupation_id',how='left')\n",
    "        p_tags['lang'] = lang\n",
    "        if idx ==0 and lindex==0:\n",
    "            lang_tags = p_tags\n",
    "        else:\n",
    "            lang_tags = lang_tags.append(p_tags, ignore_index=True)\n",
    "lang_tags.to_csv(f'./model_data/all_labels.csv')\n",
    "all_tags+=len(lang_tags)\n"
   ]
  },
  {
   "cell_type": "code",
   "execution_count": 18,
   "id": "b84e043c-d2dc-447b-8693-6f276f37c322",
   "metadata": {},
   "outputs": [],
   "source": [
    "\n",
    "for lindex, lang in enumerate(projects['lang'].unique().tolist()):\n",
    "    lang_occupation = pd.read_sql(f\"SELECT * FROM occupations WHERE lang='{lang}'\",con)\n",
    "    lang_group_occupation = pd.read_sql(f\"SELECT * FROM ISCOGroups WHERE lang='{lang}'\",con)\n",
    "    lang_occupation = lang_occupation[['conceptType','conceptUri','preferredLabel','altLabels','description']]\n",
    "    lang_occupation['lang'] = lang\n",
    "    lang_group_occupation = lang_group_occupation[['conceptType','conceptUri','preferredLabel','altLabels','description']]\n",
    "    lang_group_occupation['lang'] = lang\n",
    "    occupations = lang_group_occupation.append(lang_occupation,ignore_index=True)\n",
    "    if lindex==0:\n",
    "        langs_occupations = occupations\n",
    "    else:\n",
    "        langs_occupations = langs_occupations.append(occupations, ignore_index=True)\n",
    "langs_occupations.to_csv(f'./model_data/all_occupations.csv')\n"
   ]
  },
  {
   "cell_type": "code",
   "execution_count": 17,
   "id": "d82fb0fa-70a2-49a4-8ac7-d6198fe32e00",
   "metadata": {},
   "outputs": [
    {
     "data": {
      "text/plain": [
       "27869"
      ]
     },
     "execution_count": 17,
     "metadata": {},
     "output_type": "execute_result"
    }
   ],
   "source": [
    "for lindex, lang in enumerate(projects['lang'].unique().tolist()):\n",
    "    lang_occupation = pd.read_sql(f\"SELECT * FROM occupations WHERE lang='{lang}'\",con)\n",
    "    lang_group_occupation = pd.read_sql(f\"SELECT * FROM ISCOGroups WHERE lang='{lang}'\",con)\n",
    "    lang_occupation = lang_occupation[['conceptType','conceptUri','preferredLabel','altLabels','description']]\n",
    "    lang_occupation['lang'] = lang\n",
    "    lang_group_occupation = lang_group_occupation[['conceptType','conceptUri','preferredLabel','altLabels','description']]\n",
    "    lang_group_occupation['lang'] = lang\n",
    "    occupations = lang_group_occupation.append(lang_occupation,ignore_index=True)\n",
    "    if lindex==0:\n",
    "        langs_occupations = occupations\n",
    "    else:\n",
    "        langs_occupations = langs_occupations.append(occupations, ignore_index=True)\n",
    "langs_occupations.to_csv(f'./model_data/all_occupations.csv')\n"
   ]
  },
  {
   "cell_type": "code",
   "execution_count": 16,
   "id": "a7aea65e-195e-4d73-925b-ba6ce62eb18f",
   "metadata": {},
   "outputs": [],
   "source": [
    "\n",
    "for lindex, lang in enumerate(projects['lang'].unique().tolist()):\n",
    "    skill = pd.read_sql(f\"SELECT * FROM skills WHERE lang='{lang}'\",con)\n",
    "    skillG = pd.read_sql(f\"SELECT * FROM skillGroups WHERE lang='{lang}'\",con)\n",
    "\n",
    "    skill = skill[['conceptType','conceptUri','skillType','reuseLevel','altLabels','description']]\n",
    "    skill['lang']=lang\n",
    "    skillG = skillG[['conceptType','conceptUri','preferredLabel','description']]\n",
    "    skillG['lang']=lang\n",
    "    skills = skill.append(skillG,ignore_index=True)\n",
    "    if lindex==0:\n",
    "        all_skills = skills\n",
    "    else:\n",
    "        all_skills = all_skills.append(skills,ignore_index=True)\n",
    "all_skills.to_csv(f'./model/model_data/all_skills.csv')\n",
    "\n"
   ]
  },
  {
   "cell_type": "code",
   "execution_count": 11,
   "id": "02dc948c-db9c-42f7-a304-0156f21ed627",
   "metadata": {},
   "outputs": [
    {
     "data": {
      "text/html": [
       "<div>\n",
       "<style scoped>\n",
       "    .dataframe tbody tr th:only-of-type {\n",
       "        vertical-align: middle;\n",
       "    }\n",
       "\n",
       "    .dataframe tbody tr th {\n",
       "        vertical-align: top;\n",
       "    }\n",
       "\n",
       "    .dataframe thead th {\n",
       "        text-align: right;\n",
       "    }\n",
       "</style>\n",
       "<table border=\"1\" class=\"dataframe\">\n",
       "  <thead>\n",
       "    <tr style=\"text-align: right;\">\n",
       "      <th></th>\n",
       "      <th>conceptType</th>\n",
       "      <th>conceptUri</th>\n",
       "      <th>preferredLabel</th>\n",
       "      <th>description</th>\n",
       "      <th>lang</th>\n",
       "    </tr>\n",
       "  </thead>\n",
       "  <tbody>\n",
       "    <tr>\n",
       "      <th>0</th>\n",
       "      <td>SkillGroup</td>\n",
       "      <td>http://data.europa.eu/esco/isced-f/00</td>\n",
       "      <td>generic programmes and qualifications</td>\n",
       "      <td>Generic programmes and qualifications are thos...</td>\n",
       "      <td>en</td>\n",
       "    </tr>\n",
       "  </tbody>\n",
       "</table>\n",
       "</div>"
      ],
      "text/plain": [
       "  conceptType                             conceptUri  \\\n",
       "0  SkillGroup  http://data.europa.eu/esco/isced-f/00   \n",
       "\n",
       "                          preferredLabel  \\\n",
       "0  generic programmes and qualifications   \n",
       "\n",
       "                                         description lang  \n",
       "0  Generic programmes and qualifications are thos...   en  "
      ]
     },
     "execution_count": 11,
     "metadata": {},
     "output_type": "execute_result"
    }
   ],
   "source": [
    "'edgesType','nodesTypes','relationType'"
   ]
  },
  {
   "cell_type": "code",
   "execution_count": 20,
   "id": "c63e4955-9d80-4f00-ae2f-7f1b4b676288",
   "metadata": {},
   "outputs": [],
   "source": [
    "oc_skill = pd.read_sql(\"SELECT * FROM occupationSkillRelations\", esco_con)\n",
    "oc_skill['nodesTypes']='nonhierarchical-occupation-skill'"
   ]
  },
  {
   "cell_type": "code",
   "execution_count": 25,
   "id": "6728ae3a-e6e1-4170-9ada-de0ed00d0416",
   "metadata": {},
   "outputs": [
    {
     "data": {
      "text/html": [
       "<div>\n",
       "<style scoped>\n",
       "    .dataframe tbody tr th:only-of-type {\n",
       "        vertical-align: middle;\n",
       "    }\n",
       "\n",
       "    .dataframe tbody tr th {\n",
       "        vertical-align: top;\n",
       "    }\n",
       "\n",
       "    .dataframe thead th {\n",
       "        text-align: right;\n",
       "    }\n",
       "</style>\n",
       "<table border=\"1\" class=\"dataframe\">\n",
       "  <thead>\n",
       "    <tr style=\"text-align: right;\">\n",
       "      <th></th>\n",
       "      <th>occupationUri</th>\n",
       "      <th>relationType</th>\n",
       "      <th>skillType</th>\n",
       "      <th>skillUri</th>\n",
       "      <th>nodesTypes</th>\n",
       "    </tr>\n",
       "  </thead>\n",
       "  <tbody>\n",
       "    <tr>\n",
       "      <th>0</th>\n",
       "      <td>http://data.europa.eu/esco/occupation/00030d09...</td>\n",
       "      <td>essential</td>\n",
       "      <td>knowledge</td>\n",
       "      <td>http://data.europa.eu/esco/skill/fed5b267-73fa...</td>\n",
       "      <td>nonhierarchical-skill-skill</td>\n",
       "    </tr>\n",
       "  </tbody>\n",
       "</table>\n",
       "</div>"
      ],
      "text/plain": [
       "                                       occupationUri relationType  skillType  \\\n",
       "0  http://data.europa.eu/esco/occupation/00030d09...    essential  knowledge   \n",
       "\n",
       "                                            skillUri  \\\n",
       "0  http://data.europa.eu/esco/skill/fed5b267-73fa...   \n",
       "\n",
       "                    nodesTypes  \n",
       "0  nonhierarchical-skill-skill  "
      ]
     },
     "execution_count": 25,
     "metadata": {},
     "output_type": "execute_result"
    }
   ],
   "source": [
    "non_skill_skill = pd.read_sql(\"SELECT * FROM occupationSkillRelations\", esco_con)\n",
    "non_skill_skill['nodesTypes']='nonhierarchical-skill-skill'\n",
    "non_skill_skill.head(1)"
   ]
  },
  {
   "cell_type": "code",
   "execution_count": 29,
   "id": "7d2b60be-0644-44f2-98cd-9311ef3461c4",
   "metadata": {},
   "outputs": [
    {
     "data": {
      "text/html": [
       "<div>\n",
       "<style scoped>\n",
       "    .dataframe tbody tr th:only-of-type {\n",
       "        vertical-align: middle;\n",
       "    }\n",
       "\n",
       "    .dataframe tbody tr th {\n",
       "        vertical-align: top;\n",
       "    }\n",
       "\n",
       "    .dataframe thead th {\n",
       "        text-align: right;\n",
       "    }\n",
       "</style>\n",
       "<table border=\"1\" class=\"dataframe\">\n",
       "  <thead>\n",
       "    <tr style=\"text-align: right;\">\n",
       "      <th></th>\n",
       "      <th>conceptType</th>\n",
       "      <th>conceptUri</th>\n",
       "      <th>broaderType</th>\n",
       "      <th>broaderUri</th>\n",
       "      <th>esco_version</th>\n",
       "      <th>nodesTypes</th>\n",
       "    </tr>\n",
       "  </thead>\n",
       "  <tbody>\n",
       "    <tr>\n",
       "      <th>0</th>\n",
       "      <td>ISCOGroup</td>\n",
       "      <td>http://data.europa.eu/esco/isco/C01</td>\n",
       "      <td>ISCOGroup</td>\n",
       "      <td>http://data.europa.eu/esco/isco/C0</td>\n",
       "      <td>v1.0.3</td>\n",
       "      <td>hierarchical-occupation-occupation</td>\n",
       "    </tr>\n",
       "  </tbody>\n",
       "</table>\n",
       "</div>"
      ],
      "text/plain": [
       "  conceptType                           conceptUri broaderType  \\\n",
       "0   ISCOGroup  http://data.europa.eu/esco/isco/C01   ISCOGroup   \n",
       "\n",
       "                           broaderUri esco_version  \\\n",
       "0  http://data.europa.eu/esco/isco/C0       v1.0.3   \n",
       "\n",
       "                           nodesTypes  \n",
       "0  hierarchical-occupation-occupation  "
      ]
     },
     "execution_count": 29,
     "metadata": {},
     "output_type": "execute_result"
    }
   ],
   "source": [
    "occ_occ = pd.read_sql(\"SELECT * FROM broaderRelationsOccPillar\",esco_con)\n",
    "occ_occ['nodesTypes']='hierarchical-occupation-occupation'\n",
    "occ_occ.head(1)"
   ]
  },
  {
   "cell_type": "code",
   "execution_count": 30,
   "id": "64343689-bd69-4518-b810-bb4779ff2803",
   "metadata": {},
   "outputs": [
    {
     "data": {
      "text/html": [
       "<div>\n",
       "<style scoped>\n",
       "    .dataframe tbody tr th:only-of-type {\n",
       "        vertical-align: middle;\n",
       "    }\n",
       "\n",
       "    .dataframe tbody tr th {\n",
       "        vertical-align: top;\n",
       "    }\n",
       "\n",
       "    .dataframe thead th {\n",
       "        text-align: right;\n",
       "    }\n",
       "</style>\n",
       "<table border=\"1\" class=\"dataframe\">\n",
       "  <thead>\n",
       "    <tr style=\"text-align: right;\">\n",
       "      <th></th>\n",
       "      <th>conceptType</th>\n",
       "      <th>conceptUri</th>\n",
       "      <th>broaderType</th>\n",
       "      <th>broaderUri</th>\n",
       "      <th>esco_version</th>\n",
       "      <th>nodesTypes</th>\n",
       "    </tr>\n",
       "  </thead>\n",
       "  <tbody>\n",
       "    <tr>\n",
       "      <th>0</th>\n",
       "      <td>SkillGroup</td>\n",
       "      <td>http://data.europa.eu/esco/isced-f/00</td>\n",
       "      <td>SkillGroup</td>\n",
       "      <td>http://data.europa.eu/esco/skill/K</td>\n",
       "      <td>v1.0.3</td>\n",
       "      <td>hierarchical-skill-skill</td>\n",
       "    </tr>\n",
       "  </tbody>\n",
       "</table>\n",
       "</div>"
      ],
      "text/plain": [
       "  conceptType                             conceptUri broaderType  \\\n",
       "0  SkillGroup  http://data.europa.eu/esco/isced-f/00  SkillGroup   \n",
       "\n",
       "                           broaderUri esco_version                nodesTypes  \n",
       "0  http://data.europa.eu/esco/skill/K       v1.0.3  hierarchical-skill-skill  "
      ]
     },
     "execution_count": 30,
     "metadata": {},
     "output_type": "execute_result"
    }
   ],
   "source": [
    "skill_skill = pd.read_sql(\"SELECT * FROM broaderRelationsSkillPillar\",esco_con)\n",
    "skill_skill['nodesTypes']='hierarchical-skill-skill'\n",
    "skill_skill.head(1)"
   ]
  },
  {
   "cell_type": "code",
   "execution_count": 33,
   "id": "7cc47419-2e8a-48f3-aa31-819eb8e44df8",
   "metadata": {},
   "outputs": [],
   "source": [
    "graph = pd.concat([oc_skill,non_skill_skill,occ_occ,skill_skill])\n",
    "graph.to_csv('./model_data/graphs.csv')"
   ]
  },
  {
   "cell_type": "code",
   "execution_count": 40,
   "id": "98d13f67-a1c4-4842-83ba-e86961ec6a46",
   "metadata": {},
   "outputs": [],
   "source": [
    "jobs_con, _ = eu.load_skillLab_DB()\n",
    "\n",
    "Azuna = psql.read_sql(f\"\"\"\n",
    "        SELECT title, description,location_country \n",
    "        FROM jobs \n",
    "        WHERE location_country='GB' \n",
    "        LIMIT 100000\n",
    "        \"\"\", jobs_con)"
   ]
  },
  {
   "cell_type": "code",
   "execution_count": 45,
   "id": "08c7bab9-b6da-4c57-8355-b7944ecbe69c",
   "metadata": {},
   "outputs": [],
   "source": [
    "Azuna.to_csv(base_data_path+'azuna.csv')"
   ]
  }
 ],
 "metadata": {
  "kernelspec": {
   "display_name": "Python 3 (ipykernel)",
   "language": "python",
   "name": "python3"
  },
  "language_info": {
   "codemirror_mode": {
    "name": "ipython",
    "version": 3
   },
   "file_extension": ".py",
   "mimetype": "text/x-python",
   "name": "python",
   "nbconvert_exporter": "python",
   "pygments_lexer": "ipython3",
   "version": "3.7.10"
  }
 },
 "nbformat": 4,
 "nbformat_minor": 5
}
